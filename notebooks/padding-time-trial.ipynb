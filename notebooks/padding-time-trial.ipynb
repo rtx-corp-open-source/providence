{
 "cells": [
  {
   "cell_type": "markdown",
   "metadata": {},
   "source": [
    "# Padding Time Trial\n",
    "\n",
    "Compare the current implementation of padding with the new padding, seeing which is faster.\n",
    "\n",
    "\n",
    "**Raytheon Technologies proprietary**\n",
    "\n",
    "Export controlled - see license file"
   ]
  },
  {
   "cell_type": "code",
   "execution_count": 1,
   "metadata": {},
   "outputs": [],
   "source": [
    "from providence.dataloaders import providence_pad_sequence, is_list_of"
   ]
  },
  {
   "cell_type": "code",
   "execution_count": 3,
   "metadata": {},
   "outputs": [],
   "source": [
    "from typing import Union, Sequence, List, Tuple\n",
    "\n",
    "from numpy import ndarray, random as np_random, shape\n",
    "from torch import device, Tensor, zeros\n",
    "\n",
    "def providence_pad_sequence_old(\n",
    "    data: Union[Sequence[Tensor], List[ndarray]], target_device: device = device('cpu')\n",
    ") -> Tuple[Tensor, List[int]]:\n",
    "    \"\"\"\n",
    "    Padding function for variable length sequences\n",
    "    This function concatenates a list of panels. The result\n",
    "    will resemble something akin to the following:\n",
    "    .. code-block::\n",
    "\n",
    "            /     FEATURE2   /     FEATURE2   /     FEATURE3    /|\n",
    "           /_______________ /________________/________________ / |\n",
    "          /     FEATURE1   /     FEATURE1   /     FEATURE1    /| |\n",
    "         /_______________ / _______________/_______________  / |/|\n",
    "    T1   |   Subject1    |   Subject2    |   Subject3       | /| |\n",
    "         |_______________|_______________|__________________|/ |/|\n",
    "    T2   |   Subject1    |   Subject2    |   Subject3       | /| |\n",
    "         |_______________|_______________|__________________|/ | |\n",
    "         |               |               |                  |  | |\n",
    "         ...\n",
    "    :param data: List of NxM matricies\n",
    "    :return: (Tensor, List[int])\n",
    "    \"\"\"\n",
    "    lengths = [len(x) for x in data]\n",
    "    num_features = data[0].shape[1:]\n",
    "    dims = (max(lengths), len(data)) + num_features  # The resulting tensor will be TIME x SUBJECT X FEATURES\n",
    "    padded = zeros(*dims, device=target_device)  # initialize a zero tensor of with dimensions *dims\n",
    "\n",
    "    if isinstance(data, Tensor):\n",
    "        data = data.clone().detach()\n",
    "        # manual reshaping. Is there a better way to do this?\n",
    "        for i, sequence in enumerate(data):\n",
    "            padded[:lengths[i], i, :] = sequence\n",
    "    elif is_list_of(data, Tensor):\n",
    "        for i, sequence in enumerate(data):\n",
    "            padded[:lengths[i], i, :] = sequence.clone().detach()\n",
    "    else:\n",
    "        for i, sequence in enumerate(data):\n",
    "            padded[:lengths[i], i, :] = Tensor(sequence, device=target_device)\n",
    "    return padded, lengths"
   ]
  },
  {
   "cell_type": "markdown",
   "metadata": {},
   "source": [
    "## Numpy Arrays"
   ]
  },
  {
   "cell_type": "code",
   "execution_count": 4,
   "metadata": {},
   "outputs": [],
   "source": [
    "from pandas import DataFrame\n",
    "from string import ascii_letters\n",
    "from typing import List"
   ]
  },
  {
   "cell_type": "code",
   "execution_count": 5,
   "metadata": {},
   "outputs": [
    {
     "data": {
      "text/plain": [
       "[(16, 4), (13, 4), (15, 4), (19, 4), (11, 4)]"
      ]
     },
     "execution_count": 5,
     "metadata": {},
     "output_type": "execute_result"
    }
   ],
   "source": [
    "def list_of_numpy_arrays(n_devices: int = 5, n_features: int = 4, sequence_bounds = (10, 20)) -> List[ndarray]:\n",
    "    \"Create five devices / entities (of n_features) with sequence lengths between sequence_bounds\"\n",
    "    dfs = [\n",
    "        DataFrame(\n",
    "            np_random.random(size=(np_random.randint(sequence_bounds[0], sequence_bounds[1]), n_features)), columns=list(ascii_letters[:n_features])\n",
    "        )\n",
    "        for _ in range(n_devices)\n",
    "    ]\n",
    "    # return dfs\n",
    "    return [x.values for x in dfs]\n",
    "\n",
    "[shape(array) for array in list_of_numpy_arrays()]"
   ]
  },
  {
   "cell_type": "code",
   "execution_count": 6,
   "metadata": {},
   "outputs": [
    {
     "data": {
      "text/plain": [
       "[(11, 20),\n",
       " (10, 20),\n",
       " (12, 20),\n",
       " (15, 20),\n",
       " (10, 20),\n",
       " (18, 20),\n",
       " (19, 20),\n",
       " (15, 20),\n",
       " (11, 20),\n",
       " (10, 20)]"
      ]
     },
     "execution_count": 6,
     "metadata": {},
     "output_type": "execute_result"
    }
   ],
   "source": [
    "[shape(array) for array in list_of_numpy_arrays(n_devices=10, n_features=20)]"
   ]
  },
  {
   "cell_type": "markdown",
   "metadata": {},
   "source": [
    "### Functional invariant is held"
   ]
  },
  {
   "cell_type": "code",
   "execution_count": 7,
   "metadata": {},
   "outputs": [
    {
     "name": "stdout",
     "output_type": "stream",
     "text": [
      "[(14, 4), (15, 4), (12, 4), (17, 4), (19, 4)]\n",
      "max_length = 19\n"
     ]
    }
   ],
   "source": [
    "test_sequence_np = list_of_numpy_arrays()\n",
    "print([shape(array) for array in test_sequence_np])\n",
    "max_length = max(arr.shape[0] for arr in test_sequence_np)\n",
    "print(f\"{max_length = }\")"
   ]
  },
  {
   "cell_type": "code",
   "execution_count": 8,
   "metadata": {},
   "outputs": [],
   "source": [
    "padded, lengths = providence_pad_sequence_old(test_sequence_np)\n",
    "assert padded.shape == (max_length, len(test_sequence_np), test_sequence_np[0].shape[-1])"
   ]
  },
  {
   "cell_type": "code",
   "execution_count": 9,
   "metadata": {},
   "outputs": [],
   "source": [
    "padded, lengths = providence_pad_sequence(test_sequence_np)\n",
    "assert padded.shape == (max_length, len(test_sequence_np), test_sequence_np[0].shape[-1])"
   ]
  },
  {
   "cell_type": "markdown",
   "metadata": {},
   "source": [
    "### (Actual) time trial: small data"
   ]
  },
  {
   "cell_type": "code",
   "execution_count": 10,
   "metadata": {},
   "outputs": [
    {
     "name": "stdout",
     "output_type": "stream",
     "text": [
      "84 µs ± 6.93 µs per loop (mean ± std. dev. of 7 runs, 10000 loops each)\n"
     ]
    }
   ],
   "source": [
    "%timeit padded, lengths = providence_pad_sequence_old(test_sequence_np)"
   ]
  },
  {
   "cell_type": "code",
   "execution_count": 11,
   "metadata": {},
   "outputs": [
    {
     "name": "stdout",
     "output_type": "stream",
     "text": [
      "58.5 µs ± 420 ns per loop (mean ± std. dev. of 7 runs, 10000 loops each)\n"
     ]
    }
   ],
   "source": [
    "%timeit padded, lengths = providence_pad_sequence(test_sequence_np)"
   ]
  },
  {
   "cell_type": "markdown",
   "metadata": {},
   "source": [
    "### time trial: realistic data - Backblaze"
   ]
  },
  {
   "cell_type": "code",
   "execution_count": 12,
   "metadata": {},
   "outputs": [],
   "source": [
    "test_sequence_np_realistic = list_of_numpy_arrays(n_devices=700, n_features=20, sequence_bounds=(30, 100))"
   ]
  },
  {
   "cell_type": "code",
   "execution_count": 13,
   "metadata": {},
   "outputs": [
    {
     "name": "stdout",
     "output_type": "stream",
     "text": [
      "12.9 ms ± 1.15 ms per loop (mean ± std. dev. of 7 runs, 100 loops each)\n"
     ]
    }
   ],
   "source": [
    "%timeit padded, lengths = providence_pad_sequence_old(test_sequence_np_realistic)"
   ]
  },
  {
   "cell_type": "code",
   "execution_count": 14,
   "metadata": {},
   "outputs": [
    {
     "name": "stdout",
     "output_type": "stream",
     "text": [
      "9.3 ms ± 58.4 µs per loop (mean ± std. dev. of 7 runs, 100 loops each)\n"
     ]
    }
   ],
   "source": [
    "%timeit padded, lengths = providence_pad_sequence(test_sequence_np_realistic)"
   ]
  },
  {
   "cell_type": "markdown",
   "metadata": {},
   "source": [
    "### time trial: realistic data - NASA"
   ]
  },
  {
   "cell_type": "code",
   "execution_count": 15,
   "metadata": {},
   "outputs": [],
   "source": [
    "test_sequence_np_realistic = list_of_numpy_arrays(n_devices=100, n_features=26, sequence_bounds=(200, 300))"
   ]
  },
  {
   "cell_type": "code",
   "execution_count": 16,
   "metadata": {},
   "outputs": [
    {
     "name": "stdout",
     "output_type": "stream",
     "text": [
      "3.19 ms ± 18.6 µs per loop (mean ± std. dev. of 7 runs, 100 loops each)\n"
     ]
    }
   ],
   "source": [
    "%timeit padded, lengths = providence_pad_sequence_old(test_sequence_np_realistic)"
   ]
  },
  {
   "cell_type": "code",
   "execution_count": 17,
   "metadata": {},
   "outputs": [
    {
     "name": "stdout",
     "output_type": "stream",
     "text": [
      "2.91 ms ± 66.4 µs per loop (mean ± std. dev. of 7 runs, 100 loops each)\n"
     ]
    }
   ],
   "source": [
    "%timeit padded, lengths = providence_pad_sequence(test_sequence_np_realistic)"
   ]
  },
  {
   "cell_type": "markdown",
   "metadata": {},
   "source": [
    "### time trial: big data"
   ]
  },
  {
   "cell_type": "code",
   "execution_count": 18,
   "metadata": {},
   "outputs": [],
   "source": [
    "test_sequence_np_big = list_of_numpy_arrays(n_devices=200, n_features=52, sequence_bounds=(100, 500))"
   ]
  },
  {
   "cell_type": "code",
   "execution_count": 19,
   "metadata": {},
   "outputs": [
    {
     "name": "stdout",
     "output_type": "stream",
     "text": [
      "12.7 ms ± 266 µs per loop (mean ± std. dev. of 7 runs, 100 loops each)\n"
     ]
    }
   ],
   "source": [
    "%timeit padded, lengths = providence_pad_sequence_old(test_sequence_np_big)"
   ]
  },
  {
   "cell_type": "code",
   "execution_count": 20,
   "metadata": {},
   "outputs": [
    {
     "name": "stdout",
     "output_type": "stream",
     "text": [
      "19.7 ms ± 267 µs per loop (mean ± std. dev. of 7 runs, 10 loops each)\n"
     ]
    }
   ],
   "source": [
    "%timeit padded, lengths = providence_pad_sequence(test_sequence_np_big)"
   ]
  },
  {
   "cell_type": "markdown",
   "metadata": {},
   "source": [
    "## PyTorch Tensors"
   ]
  },
  {
   "cell_type": "code",
   "execution_count": 21,
   "metadata": {},
   "outputs": [],
   "source": [
    "import torch as pt"
   ]
  },
  {
   "cell_type": "code",
   "execution_count": 22,
   "metadata": {},
   "outputs": [
    {
     "data": {
      "text/plain": [
       "[torch.Size([16, 4]),\n",
       " torch.Size([16, 4]),\n",
       " torch.Size([11, 4]),\n",
       " torch.Size([10, 4]),\n",
       " torch.Size([17, 4])]"
      ]
     },
     "execution_count": 22,
     "metadata": {},
     "output_type": "execute_result"
    }
   ],
   "source": [
    "def list_of_tensors(n_devices: int = 5, n_features: int = 4, sequence_bounds = (10, 20)) -> List[pt.Tensor]:\n",
    "    \"Create five devices / entities (of n_features) with sequence lengths between sequence_bounds\"\n",
    "    tens = [\n",
    "        pt.rand(np_random.randint(sequence_bounds[0], sequence_bounds[1]), n_features)\n",
    "        for _ in range(n_devices)\n",
    "    ]\n",
    "    return tens\n",
    "\n",
    "[tens.size() for tens in list_of_tensors()]"
   ]
  },
  {
   "cell_type": "markdown",
   "metadata": {},
   "source": [
    "### Time trial: small data"
   ]
  },
  {
   "cell_type": "code",
   "execution_count": 23,
   "metadata": {},
   "outputs": [],
   "source": [
    "test_sequence_pt = list_of_tensors()"
   ]
  },
  {
   "cell_type": "code",
   "execution_count": 24,
   "metadata": {},
   "outputs": [
    {
     "name": "stdout",
     "output_type": "stream",
     "text": [
      "61.5 µs ± 1.13 µs per loop (mean ± std. dev. of 7 runs, 10000 loops each)\n"
     ]
    }
   ],
   "source": [
    "%timeit padded, lengths = providence_pad_sequence_old(test_sequence_pt)"
   ]
  },
  {
   "cell_type": "code",
   "execution_count": 25,
   "metadata": {},
   "outputs": [
    {
     "name": "stdout",
     "output_type": "stream",
     "text": [
      "27.7 µs ± 392 ns per loop (mean ± std. dev. of 7 runs, 10000 loops each)\n"
     ]
    }
   ],
   "source": [
    "%timeit padded, lengths = providence_pad_sequence(test_sequence_pt)"
   ]
  },
  {
   "cell_type": "markdown",
   "metadata": {},
   "source": [
    "### Time trial: realistic data - Backblaze"
   ]
  },
  {
   "cell_type": "code",
   "execution_count": 26,
   "metadata": {},
   "outputs": [],
   "source": [
    "test_sequence_pt_realistic = list_of_tensors(n_devices=700, n_features=20, sequence_bounds=(30, 100))"
   ]
  },
  {
   "cell_type": "code",
   "execution_count": 27,
   "metadata": {},
   "outputs": [
    {
     "name": "stdout",
     "output_type": "stream",
     "text": [
      "9.49 ms ± 97 µs per loop (mean ± std. dev. of 7 runs, 100 loops each)\n"
     ]
    }
   ],
   "source": [
    "%timeit padded, lengths = providence_pad_sequence_old(test_sequence_pt_realistic)"
   ]
  },
  {
   "cell_type": "code",
   "execution_count": 28,
   "metadata": {},
   "outputs": [
    {
     "name": "stdout",
     "output_type": "stream",
     "text": [
      "4.26 ms ± 94.3 µs per loop (mean ± std. dev. of 7 runs, 100 loops each)\n"
     ]
    }
   ],
   "source": [
    "%timeit padded, lengths = providence_pad_sequence(test_sequence_pt_realistic)"
   ]
  },
  {
   "cell_type": "markdown",
   "metadata": {},
   "source": [
    "### Time trial: realistic data - NASA"
   ]
  },
  {
   "cell_type": "code",
   "execution_count": 29,
   "metadata": {},
   "outputs": [],
   "source": [
    "test_sequence_pt_realistic = list_of_tensors(n_devices=100, n_features=26, sequence_bounds=(200, 300))"
   ]
  },
  {
   "cell_type": "code",
   "execution_count": 30,
   "metadata": {},
   "outputs": [
    {
     "name": "stdout",
     "output_type": "stream",
     "text": [
      "The slowest run took 7.47 times longer than the fastest. This could mean that an intermediate result is being cached.\n",
      "2.46 ms ± 764 µs per loop (mean ± std. dev. of 1000 runs, 1 loop each)\n"
     ]
    }
   ],
   "source": [
    "%timeit -n 1 -r 1000 padded, lengths = providence_pad_sequence_old(test_sequence_pt_realistic)"
   ]
  },
  {
   "cell_type": "code",
   "execution_count": 31,
   "metadata": {},
   "outputs": [
    {
     "name": "stdout",
     "output_type": "stream",
     "text": [
      "1.34 ms ± 285 µs per loop (mean ± std. dev. of 1000 runs, 1 loop each)\n"
     ]
    }
   ],
   "source": [
    "%timeit -n 1 -r 1000 padded, lengths = providence_pad_sequence(test_sequence_pt_realistic)"
   ]
  },
  {
   "cell_type": "markdown",
   "metadata": {},
   "source": [
    "### Time trial: realistic data - NASA AGG"
   ]
  },
  {
   "cell_type": "code",
   "execution_count": 32,
   "metadata": {},
   "outputs": [],
   "source": [
    "test_sequence_pt_realistic = list_of_tensors(n_devices=700, n_features=26, sequence_bounds=(200, 300))"
   ]
  },
  {
   "cell_type": "code",
   "execution_count": 33,
   "metadata": {},
   "outputs": [
    {
     "name": "stdout",
     "output_type": "stream",
     "text": [
      "17 ms ± 1.02 ms per loop (mean ± std. dev. of 1000 runs, 1 loop each)\n"
     ]
    }
   ],
   "source": [
    "%timeit -n 1 -r 1000 padded, lengths = providence_pad_sequence_old(test_sequence_pt_realistic)"
   ]
  },
  {
   "cell_type": "code",
   "execution_count": 34,
   "metadata": {},
   "outputs": [
    {
     "name": "stdout",
     "output_type": "stream",
     "text": [
      "10.4 ms ± 978 µs per loop (mean ± std. dev. of 1000 runs, 1 loop each)\n"
     ]
    }
   ],
   "source": [
    "%timeit -n 1 -r 1000 padded, lengths = providence_pad_sequence(test_sequence_pt_realistic)"
   ]
  },
  {
   "cell_type": "markdown",
   "metadata": {},
   "source": [
    "### Time trial: big data"
   ]
  },
  {
   "cell_type": "code",
   "execution_count": 35,
   "metadata": {},
   "outputs": [],
   "source": [
    "test_sequence_pt_big = list_of_tensors(n_devices=700, n_features=50, sequence_bounds=(300, 700))"
   ]
  },
  {
   "cell_type": "code",
   "execution_count": 36,
   "metadata": {},
   "outputs": [
    {
     "name": "stdout",
     "output_type": "stream",
     "text": [
      "45.2 ms ± 3.83 ms per loop (mean ± std. dev. of 1000 runs, 1 loop each)\n"
     ]
    }
   ],
   "source": [
    "%timeit -n 1 -r 1000 padded, lengths = providence_pad_sequence_old(test_sequence_pt_big)"
   ]
  },
  {
   "cell_type": "code",
   "execution_count": 37,
   "metadata": {},
   "outputs": [
    {
     "name": "stdout",
     "output_type": "stream",
     "text": [
      "30.7 ms ± 2.17 ms per loop (mean ± std. dev. of 1000 runs, 1 loop each)\n"
     ]
    }
   ],
   "source": [
    "%timeit -n 1 -r 1000 padded, lengths = providence_pad_sequence(test_sequence_pt_big)"
   ]
  },
  {
   "cell_type": "markdown",
   "metadata": {},
   "source": [
    "### Time trial: ridiculous data?"
   ]
  },
  {
   "cell_type": "code",
   "execution_count": 38,
   "metadata": {},
   "outputs": [],
   "source": [
    "test_sequence_pt_big = list_of_tensors(n_devices=1000, n_features=52, sequence_bounds=(4000, 7000))"
   ]
  },
  {
   "cell_type": "code",
   "execution_count": 39,
   "metadata": {},
   "outputs": [
    {
     "name": "stdout",
     "output_type": "stream",
     "text": [
      "The slowest run took 5.70 times longer than the fastest. This could mean that an intermediate result is being cached.\n",
      "699 ms ± 286 ms per loop (mean ± std. dev. of 100 runs, 1 loop each)\n"
     ]
    }
   ],
   "source": [
    "%timeit -n 1 -r 100 padded, lengths = providence_pad_sequence_old(test_sequence_pt_big)"
   ]
  },
  {
   "cell_type": "code",
   "execution_count": 40,
   "metadata": {},
   "outputs": [
    {
     "name": "stdout",
     "output_type": "stream",
     "text": [
      "490 ms ± 27.4 ms per loop (mean ± std. dev. of 100 runs, 1 loop each)\n"
     ]
    }
   ],
   "source": [
    "%timeit -n 1 -r 100 padded, lengths = providence_pad_sequence(test_sequence_pt_big)"
   ]
  },
  {
   "cell_type": "code",
   "execution_count": null,
   "metadata": {},
   "outputs": [],
   "source": []
  },
  {
   "cell_type": "code",
   "execution_count": null,
   "metadata": {},
   "outputs": [],
   "source": []
  }
 ],
 "metadata": {
  "kernelspec": {
   "display_name": "Python 3",
   "language": "python",
   "name": "python3"
  },
  "language_info": {
   "codemirror_mode": {
    "name": "ipython",
    "version": 3
   },
   "file_extension": ".py",
   "mimetype": "text/x-python",
   "name": "python",
   "nbconvert_exporter": "python",
   "pygments_lexer": "ipython3",
   "version": "3.9.5 (default, Jul 15 2021, 16:46:30) \n[Clang 12.0.5 (clang-1205.0.22.11)]"
  },
  "orig_nbformat": 4,
  "vscode": {
   "interpreter": {
    "hash": "29daccd01a8140f598b986dfe9966e4a7608d5a18dd72838d3231f8658d29959"
   }
  }
 },
 "nbformat": 4,
 "nbformat_minor": 2
}
